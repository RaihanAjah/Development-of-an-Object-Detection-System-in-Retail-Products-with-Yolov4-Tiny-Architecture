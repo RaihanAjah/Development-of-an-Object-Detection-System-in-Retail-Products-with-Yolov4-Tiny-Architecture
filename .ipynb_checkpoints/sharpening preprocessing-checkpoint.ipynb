{
 "cells": [
  {
   "cell_type": "markdown",
   "id": "a8c5d6d8",
   "metadata": {},
   "source": [
    "https://towardsdatascience.com/batch-resizing-images-in-python-with-pillow-94f558b1759b\n",
    "\n",
    "https://realpython.com/image-processing-with-the-python-pillow-library/#image-blurring-sharpening-and-smoothing\n",
    "\n",
    "https://pythontic.com/image-processing/pillow/sharpen-filter"
   ]
  },
  {
   "cell_type": "code",
   "execution_count": 5,
   "id": "4099a47c",
   "metadata": {},
   "outputs": [
    {
     "name": "stdout",
     "output_type": "stream",
     "text": [
      "24\n"
     ]
    }
   ],
   "source": [
    "import os\n",
    "import os.path\n",
    "from PIL import Image\n",
    "from PIL import ImageFilter\n",
    "\n",
    "f = r'C:\\Users\\PREDATOR\\Documents\\raw_c1\\c1\\test' # Jangan Lupa Diganti\n",
    "for file in os.listdir(f):\n",
    "    if (file.endswith(\".jpeg\")):\n",
    "        f_img = f+\"/\"+file\n",
    "        file_name = os.path.splitext(file)[0]\n",
    "        img = Image.open(f_img)\n",
    "        img = img.filter(ImageFilter.SHARPEN)\n",
    "        img = img.resize((416,416))\n",
    "        img.save(\"C:/Users/PREDATOR/Documents/raw_c1/c1/test/\" + file_name + \".jpg\")\n",
    "\n",
    "for file in os.listdir(f):\n",
    "    if (file.endswith(\".jpeg\")):\n",
    "        f_img = f+\"/\"+file\n",
    "        os.remove(f_img)"
   ]
  },
  {
   "cell_type": "code",
   "execution_count": 17,
   "id": "71d4bf29",
   "metadata": {},
   "outputs": [
    {
     "name": "stdout",
     "output_type": "stream",
     "text": [
      "1903\n"
     ]
    }
   ],
   "source": [
    "import os\n",
    "from PIL import Image\n",
    "\n",
    "i=0\n",
    "\n",
    "f = r'C:\\Users\\PREDATOR\\Downloads\\dataset\\datasetTA'\n",
    "for file in os.listdir(f):\n",
    "    if (file.endswith(\".jpeg\")):\n",
    "        f_img = f+\"/\"+file\n",
    "        file_name = os.path.splitext(file)[0]\n",
    "        i+=1\n",
    "        img_jpeg = Image.open(f_img)\n",
    "        rgb = img_jpeg.convert('RGB')\n",
    "        rgb.save(\"C:/Users/PREDATOR/Downloads/dataset/datasetTA/\" + file_name + \".jpg\" )\n",
    "print(i)\n"
   ]
  },
  {
   "cell_type": "code",
   "execution_count": 15,
   "id": "d8528873",
   "metadata": {},
   "outputs": [],
   "source": [
    "f = r'C:\\Users\\PREDATOR\\Downloads\\dataset\\datasetTA'\n",
    "for file in os.listdir(f):\n",
    "    if (file.endswith(\".JPG\")):\n",
    "        f_img = f+\"/\"+file\n",
    "        os.remove(f_img)"
   ]
  },
  {
   "cell_type": "code",
   "execution_count": 18,
   "id": "21db6ccd",
   "metadata": {},
   "outputs": [
    {
     "name": "stdout",
     "output_type": "stream",
     "text": [
      "0\n",
      "4605\n",
      "1903\n"
     ]
    }
   ],
   "source": [
    "i=0\n",
    "f = r'C:\\Users\\PREDATOR\\Downloads\\dataset\\datasetTA'\n",
    "for file in os.listdir(f):\n",
    "    if (file.endswith(\".JPG\")):\n",
    "        f_img = f+\"/\"+file      \n",
    "        i+=1\n",
    "print(i)\n",
    "\n",
    "i=0\n",
    "for file in os.listdir(f):\n",
    "    if (file.endswith(\".jpg\")):\n",
    "        f_img = f+\"/\"+file      \n",
    "        i+=1\n",
    "print(i)\n",
    "\n",
    "i=0\n",
    "f = r'C:\\Users\\PREDATOR\\Downloads\\dataset\\datasetTA'\n",
    "for file in os.listdir(f):\n",
    "    if (file.endswith(\".jpeg\")):\n",
    "        f_img = f+\"/\"+file      \n",
    "        i+=1\n",
    "print(i)"
   ]
  },
  {
   "cell_type": "code",
   "execution_count": 1,
   "id": "584114b3",
   "metadata": {},
   "outputs": [
    {
     "ename": "SyntaxError",
     "evalue": "(unicode error) 'unicodeescape' codec can't decode bytes in position 2-3: truncated \\UXXXXXXXX escape (<ipython-input-1-5c5456a47e3f>, line 4)",
     "output_type": "error",
     "traceback": [
      "\u001b[1;36m  File \u001b[1;32m\"<ipython-input-1-5c5456a47e3f>\"\u001b[1;36m, line \u001b[1;32m4\u001b[0m\n\u001b[1;33m    folder_path = 'C:\\Users\\PREDATOR\\Documents\\Tugas Akhir\\Program\\Project TA 2\\darknet\\data\\obj'  # Ganti dengan path ke folder yang berisi gambar-gambar\u001b[0m\n\u001b[1;37m                  ^\u001b[0m\n\u001b[1;31mSyntaxError\u001b[0m\u001b[1;31m:\u001b[0m (unicode error) 'unicodeescape' codec can't decode bytes in position 2-3: truncated \\UXXXXXXXX escape\n"
     ]
    }
   ],
   "source": [
    "import cv2\n",
    "import os\n",
    "\n",
    "folder_path = 'C:\\Users\\PREDATOR\\Documents\\Tugas Akhir\\Program\\Project TA 2\\darknet\\data\\obj'  # Ganti dengan path ke folder yang berisi gambar-gambar\n",
    "\n",
    "total_images = 0  # Jumlah total gambar dengan resolusi 416x416\n",
    "\n",
    "# Iterasi melalui setiap file di folder\n",
    "for filename in os.listdir(folder_path):\n",
    "    file_path = os.path.join(folder_path, filename)\n",
    "    \n",
    "    # Membaca metadata gambar menggunakan OpenCV\n",
    "    img = cv2.imread(file_path)\n",
    "    \n",
    "    # Memeriksa resolusi gambar\n",
    "    if img is not None and img.shape[:2] == (416, 416):\n",
    "        total_images += 1\n",
    "\n",
    "print(\"Jumlah gambar dengan resolusi 416x416:\", total_images)"
   ]
  },
  {
   "cell_type": "code",
   "execution_count": null,
   "id": "8b190ca1",
   "metadata": {},
   "outputs": [],
   "source": []
  }
 ],
 "metadata": {
  "kernelspec": {
   "display_name": "Python 3",
   "language": "python",
   "name": "python3"
  },
  "language_info": {
   "codemirror_mode": {
    "name": "ipython",
    "version": 3
   },
   "file_extension": ".py",
   "mimetype": "text/x-python",
   "name": "python",
   "nbconvert_exporter": "python",
   "pygments_lexer": "ipython3",
   "version": "3.8.8"
  },
  "varInspector": {
   "cols": {
    "lenName": 16,
    "lenType": 16,
    "lenVar": 40
   },
   "kernels_config": {
    "python": {
     "delete_cmd_postfix": "",
     "delete_cmd_prefix": "del ",
     "library": "var_list.py",
     "varRefreshCmd": "print(var_dic_list())"
    },
    "r": {
     "delete_cmd_postfix": ") ",
     "delete_cmd_prefix": "rm(",
     "library": "var_list.r",
     "varRefreshCmd": "cat(var_dic_list()) "
    }
   },
   "types_to_exclude": [
    "module",
    "function",
    "builtin_function_or_method",
    "instance",
    "_Feature"
   ],
   "window_display": false
  }
 },
 "nbformat": 4,
 "nbformat_minor": 5
}
